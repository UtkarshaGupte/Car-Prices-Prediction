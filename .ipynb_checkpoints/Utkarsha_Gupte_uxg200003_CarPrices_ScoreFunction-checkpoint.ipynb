{
 "cells": [
  {
   "cell_type": "code",
   "execution_count": 1,
   "id": "8d6fa2e9",
   "metadata": {},
   "outputs": [],
   "source": [
    "\n",
    "def project_2_scoring_carprices(data):\n",
    "    \"\"\"\n",
    "    Function to score input dataset.\n",
    "    \n",
    "    Input: dataset in Pandas DataFrame format\n",
    "    Output: Python list of labels in the same order as input records\n",
    "    \n",
    "    Flow:\n",
    "        - Load artifacts\n",
    "        - Transform dataset\n",
    "        - Score dataset\n",
    "        - Return labels\n",
    "    \n",
    "    \"\"\"\n",
    "\n",
    "    carPrices_hold_out_data = data\n",
    "\n",
    "    cat_columns = ['mark', 'model', 'generation_name', 'fuel', 'city', 'province']\n",
    "    response = \"price\"\n",
    "\n",
    "\n",
    "    carPrices_hold_out_data[cat_columns] = carPrices_hold_out_data[cat_columns].asfactor()\n",
    "\n",
    "\n",
    "    # upload the model that you just downloded above\n",
    "    # to the H2O cluster\n",
    "    model_path = \"./artifacts_CarPrices/gbm_grid1_model_103\"\n",
    "    carPrices_gbm_model = h2o.upload_model(model_path)\n",
    "\n",
    "\n",
    "    columns_to_score = carPrices_hold_out_data.columns\n",
    "    columns_to_score.remove('price')\n",
    "\n",
    "    y_pred = carPrices_gbm_model.predict(carPrices_hold_out_data[:,columns_to_score])\n",
    "    \n",
    "    \n",
    "    return y_pred"
   ]
  },
  {
   "cell_type": "code",
   "execution_count": 2,
   "id": "47d5ed3a",
   "metadata": {},
   "outputs": [],
   "source": [
    "import warnings\n",
    "warnings.filterwarnings('ignore')\n",
    "\n",
    "import pandas as pd \n",
    "\n",
    "import shap\n",
    "\n",
    "import h2o\n",
    "from h2o.estimators import H2OTargetEncoderEstimator\n",
    "\n",
    "try:\n",
    "    h2o.cluster().shutdown()\n",
    "except:\n",
    "    pass "
   ]
  },
  {
   "cell_type": "code",
   "execution_count": 3,
   "id": "3a8954cf",
   "metadata": {},
   "outputs": [
    {
     "name": "stdout",
     "output_type": "stream",
     "text": [
      "Checking whether there is an H2O instance running at http://localhost:54321 . connected.\n",
      "Warning: Your H2O cluster version is too old (4 months and 8 days)!Please download and install the latest version from http://h2o.ai/download/\n"
     ]
    },
    {
     "data": {
      "text/html": [
       "<div style=\"overflow:auto\"><table style=\"width:50%\"><tr><td>H2O_cluster_uptime:</td>\n",
       "<td>40 mins 03 secs</td></tr>\n",
       "<tr><td>H2O_cluster_timezone:</td>\n",
       "<td>America/Los_Angeles</td></tr>\n",
       "<tr><td>H2O_data_parsing_timezone:</td>\n",
       "<td>UTC</td></tr>\n",
       "<tr><td>H2O_cluster_version:</td>\n",
       "<td>3.36.0.1</td></tr>\n",
       "<tr><td>H2O_cluster_version_age:</td>\n",
       "<td>4 months and 8 days !!!</td></tr>\n",
       "<tr><td>H2O_cluster_name:</td>\n",
       "<td>H2O_from_python_General_e04fzh</td></tr>\n",
       "<tr><td>H2O_cluster_total_nodes:</td>\n",
       "<td>1</td></tr>\n",
       "<tr><td>H2O_cluster_free_memory:</td>\n",
       "<td>7.613 Gb</td></tr>\n",
       "<tr><td>H2O_cluster_total_cores:</td>\n",
       "<td>4</td></tr>\n",
       "<tr><td>H2O_cluster_allowed_cores:</td>\n",
       "<td>3</td></tr>\n",
       "<tr><td>H2O_cluster_status:</td>\n",
       "<td>locked, healthy</td></tr>\n",
       "<tr><td>H2O_connection_url:</td>\n",
       "<td>http://localhost:54321</td></tr>\n",
       "<tr><td>H2O_connection_proxy:</td>\n",
       "<td>{\"http\": null, \"https\": null}</td></tr>\n",
       "<tr><td>H2O_internal_security:</td>\n",
       "<td>False</td></tr>\n",
       "<tr><td>H2O_API_Extensions:</td>\n",
       "<td>Amazon S3, Algos, Infogram, AutoML, Core V3, TargetEncoder, Core V4</td></tr>\n",
       "<tr><td>Python_version:</td>\n",
       "<td>3.8.10 final</td></tr></table></div>"
      ],
      "text/plain": [
       "--------------------------  -------------------------------------------------------------------\n",
       "H2O_cluster_uptime:         40 mins 03 secs\n",
       "H2O_cluster_timezone:       America/Los_Angeles\n",
       "H2O_data_parsing_timezone:  UTC\n",
       "H2O_cluster_version:        3.36.0.1\n",
       "H2O_cluster_version_age:    4 months and 8 days !!!\n",
       "H2O_cluster_name:           H2O_from_python_General_e04fzh\n",
       "H2O_cluster_total_nodes:    1\n",
       "H2O_cluster_free_memory:    7.613 Gb\n",
       "H2O_cluster_total_cores:    4\n",
       "H2O_cluster_allowed_cores:  3\n",
       "H2O_cluster_status:         locked, healthy\n",
       "H2O_connection_url:         http://localhost:54321\n",
       "H2O_connection_proxy:       {\"http\": null, \"https\": null}\n",
       "H2O_internal_security:      False\n",
       "H2O_API_Extensions:         Amazon S3, Algos, Infogram, AutoML, Core V3, TargetEncoder, Core V4\n",
       "Python_version:             3.8.10 final\n",
       "--------------------------  -------------------------------------------------------------------"
      ]
     },
     "metadata": {},
     "output_type": "display_data"
    }
   ],
   "source": [
    "#Limit to 3 threads and 8GB memory\n",
    "h2o.init(nthreads=3, max_mem_size=8)"
   ]
  },
  {
   "cell_type": "code",
   "execution_count": 4,
   "id": "658d5cc1",
   "metadata": {
    "scrolled": true
   },
   "outputs": [
    {
     "name": "stdout",
     "output_type": "stream",
     "text": [
      "Parse progress: |████████████████████████████████████████████████████████████████| (done) 100%\n"
     ]
    }
   ],
   "source": [
    "data_hold_out = h2o.import_file('carPricesTest.csv')"
   ]
  },
  {
   "cell_type": "code",
   "execution_count": 5,
   "id": "f9bb58a9",
   "metadata": {},
   "outputs": [
    {
     "data": {
      "text/html": [
       "<table>\n",
       "<thead>\n",
       "<tr><th>mark  </th><th>model  </th><th>generation_name     </th><th style=\"text-align: right;\">  year</th><th style=\"text-align: right;\">  mileage</th><th style=\"text-align: right;\">  vol_engine</th><th>fuel    </th><th>city         </th><th>province   </th><th style=\"text-align: right;\">  price</th></tr>\n",
       "</thead>\n",
       "<tbody>\n",
       "<tr><td>seat  </td><td>leon   </td><td>gen-i-1999-2005-leon</td><td style=\"text-align: right;\">  1999</td><td style=\"text-align: right;\">   169000</td><td style=\"text-align: right;\">        1600</td><td>Gasoline</td><td>Gubin        </td><td>Lubuskie   </td><td style=\"text-align: right;\">   3999</td></tr>\n",
       "<tr><td>volvo </td><td>xc-60  </td><td>gen-ii-2017         </td><td style=\"text-align: right;\">  2019</td><td style=\"text-align: right;\">    65942</td><td style=\"text-align: right;\">        1969</td><td>Diesel  </td><td>Warszawa     </td><td>Mazowieckie</td><td style=\"text-align: right;\"> 169999</td></tr>\n",
       "<tr><td>mazda </td><td>cx-3   </td><td>                    </td><td style=\"text-align: right;\">  2019</td><td style=\"text-align: right;\">    76000</td><td style=\"text-align: right;\">        1998</td><td>Gasoline</td><td>Zielona GÃ³ra</td><td>Lubuskie   </td><td style=\"text-align: right;\">  95900</td></tr>\n",
       "</tbody>\n",
       "</table>"
      ]
     },
     "metadata": {},
     "output_type": "display_data"
    },
    {
     "data": {
      "text/plain": []
     },
     "execution_count": 5,
     "metadata": {},
     "output_type": "execute_result"
    }
   ],
   "source": [
    "data_hold_out.head(3)"
   ]
  },
  {
   "cell_type": "code",
   "execution_count": 6,
   "id": "96992244",
   "metadata": {},
   "outputs": [
    {
     "name": "stdout",
     "output_type": "stream",
     "text": [
      "gbm prediction progress: |███████████████████████████████████████████████████████| (done) 100%\n"
     ]
    }
   ],
   "source": [
    "ans = project_2_scoring_carprices(data_hold_out)"
   ]
  },
  {
   "cell_type": "code",
   "execution_count": 7,
   "id": "2892f8b5",
   "metadata": {},
   "outputs": [
    {
     "data": {
      "text/html": [
       "<table>\n",
       "<thead>\n",
       "<tr><th style=\"text-align: right;\">  predict</th></tr>\n",
       "</thead>\n",
       "<tbody>\n",
       "<tr><td style=\"text-align: right;\">  9015.61</td></tr>\n",
       "<tr><td style=\"text-align: right;\">166373   </td></tr>\n",
       "<tr><td style=\"text-align: right;\"> 78707   </td></tr>\n",
       "<tr><td style=\"text-align: right;\"> 10403   </td></tr>\n",
       "<tr><td style=\"text-align: right;\"> 16563.9 </td></tr>\n",
       "<tr><td style=\"text-align: right;\"> 11976.4 </td></tr>\n",
       "<tr><td style=\"text-align: right;\"> 51966.7 </td></tr>\n",
       "<tr><td style=\"text-align: right;\"> 27524.9 </td></tr>\n",
       "<tr><td style=\"text-align: right;\"> 19937.5 </td></tr>\n",
       "<tr><td style=\"text-align: right;\"> 58836.5 </td></tr>\n",
       "</tbody>\n",
       "</table>"
      ]
     },
     "metadata": {},
     "output_type": "display_data"
    },
    {
     "data": {
      "text/plain": []
     },
     "execution_count": 7,
     "metadata": {},
     "output_type": "execute_result"
    }
   ],
   "source": [
    "ans"
   ]
  },
  {
   "cell_type": "code",
   "execution_count": null,
   "id": "0fe68648",
   "metadata": {},
   "outputs": [],
   "source": []
  }
 ],
 "metadata": {
  "kernelspec": {
   "display_name": "Python 3 (ipykernel)",
   "language": "python",
   "name": "python3"
  },
  "language_info": {
   "codemirror_mode": {
    "name": "ipython",
    "version": 3
   },
   "file_extension": ".py",
   "mimetype": "text/x-python",
   "name": "python",
   "nbconvert_exporter": "python",
   "pygments_lexer": "ipython3",
   "version": "3.8.10"
  }
 },
 "nbformat": 4,
 "nbformat_minor": 5
}
